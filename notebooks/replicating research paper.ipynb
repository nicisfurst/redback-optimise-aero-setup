{
 "cells": [
  {
   "cell_type": "markdown",
   "metadata": {},
   "source": [
    "Setup"
   ]
  },
  {
   "cell_type": "code",
   "execution_count": 4,
   "metadata": {},
   "outputs": [],
   "source": [
    "\n",
    "import numpy as np\n",
    "import pandas as pd\n",
    "import matplotlib.pyplot as plt\n",
    "import re\n",
    "import sys\n",
    "import os\n",
    "from tqdm.notebook import tqdm\n",
    "from datetime import datetime\n",
    "import pathlib\n",
    "\n",
    "sys.path.append(f'../libs')\n",
    "sys.path.append(f'../libs/openlap')\n",
    " # cd \"C:\\Program Files\\MATLAB\\R2022a\\extern\\engines\\python\" \n",
    "\n",
    "import matlab.engine"
   ]
  },
  {
   "cell_type": "code",
   "execution_count": 5,
   "metadata": {},
   "outputs": [],
   "source": [
    "OLAP_DIR = '../libs/openlap'\n",
    "CAR_FILE = 'car.xlsx'\n",
    "SIMS_FOLDER = 'OpenLAP Sims'\n",
    "TEST_SETUP_FINAL = 'OpenLAP_Formula 1_Autodromo Nazionale Monza.csv'"
   ]
  },
  {
   "cell_type": "markdown",
   "metadata": {},
   "source": [
    "Basic Cals"
   ]
  },
  {
   "cell_type": "code",
   "execution_count": 6,
   "metadata": {},
   "outputs": [],
   "source": [
    "# Calculates the Coefficient of Drag\n",
    "def calculate_cd(*, cdf: float = None, cl: float = None, clo: float = 0.01, \n",
    "                 cdo: float = 0.6, k: float = 0.04) -> float:\n",
    "    \"\"\"Calculates the Coefficient of Drag off a Given Coefficient of Downforce\n",
    "    Note: Default values are for the paper's car vals, MUST CHANGE FOR ANY OTHER SETUP\n",
    "\n",
    "    Args:\n",
    "        cdf (float): Coefficient of Downforce\n",
    "        clo (float, optional): Coefficient of Lift (no-aero). Paper-Defaults to 0.01.\n",
    "        cdo (float, optional): Coefficient of Drag (no-aero). Paper-Defaults to 0.6.\n",
    "        k (float, optional): Polar Coefficient? (is power to mass ratio?). Paper-Defaults to 0.04.\n",
    "\n",
    "    Returns:\n",
    "        float: Calculated Coefficient of Drag\n",
    "    \"\"\"\n",
    "    \n",
    "    if cl is None:\n",
    "        cl = -cdf  # Coefficient of Lift\n",
    "        \n",
    "    cd = -(k*(cl-clo)**2 + cdo)  # Coefficient of Drag\n",
    "    return cd\n",
    "\n",
    "\n",
    "def get_cl_cd_pairs(cl_range: float = None, cd_range: float = None,\n",
    "                    n: int = 10, **kwargs) -> tuple:\n",
    "    \"\"\"Get cl and cd pairs\n",
    "\n",
    "    Args:\n",
    "        cl_range (float, optional): Range given by cl. Defaults to None.\n",
    "        cd_range (float, optional): Range given by cd. Defaults to None.\n",
    "        n (int, optional): _description_. Defaults to 10.\n",
    "\n",
    "    Returns:\n",
    "        tuple: (cl, cd)\n",
    "\n",
    "    Yields:\n",
    "        Iterator[float]: (cl, cd) tuple\n",
    "    \"\"\"\n",
    "    \n",
    "    if cl_range is None and cd_range is not None:\n",
    "        iter_range = cd_range\n",
    "        \n",
    "    elif cl_range is not None and cd_range is None:\n",
    "        iter_range = cl_range\n",
    "    \n",
    "    else:\n",
    "        raise ValueError('Need to pass either cl_range or cd_range, and not both')\n",
    "            \n",
    "    for cl in np.linspace(*iter_range, n):\n",
    "        yield (cl, calculate_cd(cl = cl, **kwargs))\n",
    "\n",
    "\n",
    "# x = -np.linspace(0, 8, 80)\n",
    "# plt.plot(x, calculate_cd(cl=x))\n",
    "# plt.show()"
   ]
  },
  {
   "cell_type": "markdown",
   "metadata": {},
   "source": [
    "Doing the Stuff through OpenLAP"
   ]
  },
  {
   "cell_type": "code",
   "execution_count": 7,
   "metadata": {},
   "outputs": [],
   "source": [
    "# # The csv data is seperated weirdly  (note for header, it ignores blank lines)\n",
    "# df = pd.read_csv(f'{OLAP_DIR}/{SIMS_FOLDER}/{TEST_SETUP_FINAL}', header=[10, 11])"
   ]
  },
  {
   "cell_type": "code",
   "execution_count": 8,
   "metadata": {},
   "outputs": [],
   "source": [
    "def edit_cl_cd(cl: float, cd: float, file: str = 'car.xlsx'):\n",
    "    vehicle_details = pd.read_excel(f'{OLAP_DIR}/{file}', sheet_name='Info')\n",
    "    vehicle_torque = pd.read_excel(f'{OLAP_DIR}/{file}', sheet_name='Torque Curve')\n",
    "\n",
    "    vehicle_details.loc[vehicle_details['Description'] == 'Drag Coefficient CD', 'Value'] = cd\n",
    "    vehicle_details.loc[vehicle_details['Description'] == 'Lift Coefficient CL', 'Value'] = cl\n",
    "    # print(vehicle_details.head(14))\n",
    "\n",
    "    writer = pd.ExcelWriter(f'{OLAP_DIR}/{file}', engine='xlsxwriter')\n",
    "    vehicle_details.to_excel(writer, sheet_name='Info', index=False)\n",
    "    vehicle_torque.to_excel(writer, sheet_name='Torque Curve', index=False)\n",
    "    writer.save()"
   ]
  },
  {
   "cell_type": "code",
   "execution_count": 9,
   "metadata": {},
   "outputs": [],
   "source": [
    "## SETUP\n",
    "def simulate(cl_range: list[float], eng: matlab.engine.EngineSession, n=5) -> pd.DataFrame:\n",
    "    # try running the sim from python\n",
    "\n",
    "\n",
    "    # other things\n",
    "    current_time = datetime.now().strftime(\"%d %h %y %H-%M\")\n",
    "    try:\n",
    "        os.mkdir(f'../results/{current_time}')\n",
    "    except FileExistsError:\n",
    "        pass\n",
    "    results = pd.DataFrame(float(0), index=list(range(0,n)), columns=['time', 'cl'])  # (time, cl)\n",
    "\n",
    "    # Main ittr\n",
    "    for run, cl_cd_tuple in tqdm(enumerate(get_cl_cd_pairs(cl_range=cl_range, n=n)), total=n, desc='setup iteration'):\n",
    "        # NOTE:\n",
    "        # # look at multiprocessing, and speed up tools in python, forgot name\n",
    "        \n",
    "        # tqdm sub loop\n",
    "        # with tqdm(total=5, desc='sub tasks') as pbar:\n",
    "        # Unpack tuple\n",
    "        print(f'{run=}, {cl_cd_tuple=}')\n",
    "        cl, cd = cl_cd_tuple\n",
    "        \n",
    "        # First, edit the vehicle file\n",
    "        edit_cl_cd(cl = cl, cd = cd)\n",
    "        # pbar.update()\n",
    "        \n",
    "        # Build the vehicle model\n",
    "        eng.run('OpenVEHICLE.m', nargout=0)\n",
    "        eng.close()  # Clears figures\n",
    "        # pbar.update()\n",
    "        \n",
    "        # Simulate the Lap\n",
    "        eng.run('OpenLAP.m', nargout=0)  # Runs lap sim\n",
    "        eng.close() \n",
    "        # pbar.update()\n",
    "        \n",
    "        # Rename the files\n",
    "        curr_dir = f'../results/{current_time}/{run=};cl={cl:.3f};cd={cd:.3f}'\n",
    "        try:\n",
    "            os.rename(f'{OLAP_DIR}/OpenLap Sims', curr_dir)\n",
    "        except FileExistsError:\n",
    "            pass\n",
    "        # pbar.update()\n",
    "        \n",
    "        # Read in the goods\n",
    "        csv_file = str(next(pathlib.Path(curr_dir).glob('*.csv')))\n",
    "        df = pd.read_csv(f'{csv_file}', header=10).iloc[1:]\n",
    "        results.loc[run, 'time'] = df.iloc[-1]['time']\n",
    "        results.loc[run, 'cl'] = cl\n",
    "        # pbar.update()\n",
    "        \n",
    "        # pbar.reset()\n",
    "        \n",
    "    return results\n",
    "\n",
    "# simulate([-1, -8], None)\n"
   ]
  },
  {
   "cell_type": "code",
   "execution_count": 10,
   "metadata": {},
   "outputs": [
    {
     "data": {
      "application/vnd.jupyter.widget-view+json": {
       "model_id": "e89f53f92e304dfb8975c8adecea6ed9",
       "version_major": 2,
       "version_minor": 0
      },
      "text/plain": [
       "setup iteration:   0%|          | 0/5 [00:00<?, ?it/s]"
      ]
     },
     "metadata": {},
     "output_type": "display_data"
    },
    {
     "name": "stdout",
     "output_type": "stream",
     "text": [
      "run=0, cl_cd_tuple=(-1.0, -0.6408039999999999)\n"
     ]
    }
   ],
   "source": [
    "# init\n",
    "cl_range = [-1, -8]\n",
    "\n",
    "# Start matlab\n",
    "eng = matlab.engine.start_matlab()\n",
    "eng.cd(f'D:/Redback/Aero/libs/openlap')\n",
    "\n",
    "# Simulate\n",
    "for i in range(1):\n",
    "    results = simulate(cl_range, eng) \n",
    "    min = results['time'].astype(float).idxmin()\n",
    "    print(f'{min=}')\n",
    "    cl_range[0] = results.loc[min-1, 'cl']\n",
    "    cl_range[1] = results.loc[min+1, 'cl']"
   ]
  },
  {
   "cell_type": "code",
   "execution_count": null,
   "metadata": {},
   "outputs": [
    {
     "data": {
      "text/html": [
       "<div>\n",
       "<style scoped>\n",
       "    .dataframe tbody tr th:only-of-type {\n",
       "        vertical-align: middle;\n",
       "    }\n",
       "\n",
       "    .dataframe tbody tr th {\n",
       "        vertical-align: top;\n",
       "    }\n",
       "\n",
       "    .dataframe thead th {\n",
       "        text-align: right;\n",
       "    }\n",
       "</style>\n",
       "<table border=\"1\" class=\"dataframe\">\n",
       "  <thead>\n",
       "    <tr style=\"text-align: right;\">\n",
       "      <th></th>\n",
       "      <th>time</th>\n",
       "      <th>cl</th>\n",
       "    </tr>\n",
       "  </thead>\n",
       "  <tbody>\n",
       "    <tr>\n",
       "      <th>0</th>\n",
       "      <td>79.180000</td>\n",
       "      <td>-3.406250</td>\n",
       "    </tr>\n",
       "    <tr>\n",
       "      <th>1</th>\n",
       "      <td>79.139999</td>\n",
       "      <td>-3.460938</td>\n",
       "    </tr>\n",
       "    <tr>\n",
       "      <th>2</th>\n",
       "      <td>79.120003</td>\n",
       "      <td>-3.515625</td>\n",
       "    </tr>\n",
       "    <tr>\n",
       "      <th>3</th>\n",
       "      <td>79.099998</td>\n",
       "      <td>-3.570312</td>\n",
       "    </tr>\n",
       "    <tr>\n",
       "      <th>4</th>\n",
       "      <td>79.120003</td>\n",
       "      <td>-3.625000</td>\n",
       "    </tr>\n",
       "  </tbody>\n",
       "</table>\n",
       "</div>"
      ],
      "text/plain": [
       "        time        cl\n",
       "0  79.180000 -3.406250\n",
       "1  79.139999 -3.460938\n",
       "2  79.120003 -3.515625\n",
       "3  79.099998 -3.570312\n",
       "4  79.120003 -3.625000"
      ]
     },
     "execution_count": 34,
     "metadata": {},
     "output_type": "execute_result"
    },
    {
     "data": {
      "image/png": "[encoded data removed]",
      "text/plain": [
       "<Figure size 432x288 with 1 Axes>"
      ]
     },
     "metadata": {
      "needs_background": "light"
     },
     "output_type": "display_data"
    }
   ],
   "source": [
    "plt.plot(results['cl'].astype(float), results['time'].astype(float))\n",
    "results"
   ]
  }
 ],
 "metadata": {
  "interpreter": {
   "hash": "a503c03fc099b655bcfe4d94bd8a52c23c07f44eef940af676253459c52942dd"
  },
  "kernelspec": {
   "display_name": "Python 3.9.7 64-bit",
   "language": "python",
   "name": "python3"
  },
  "language_info": {
   "codemirror_mode": {
    "name": "ipython",
    "version": 3
   },
   "file_extension": ".py",
   "mimetype": "text/x-python",
   "name": "python",
   "nbconvert_exporter": "python",
   "pygments_lexer": "ipython3",
   "version": "3.9.7"
  },
  "orig_nbformat": 4
 },
 "nbformat": 4,
 "nbformat_minor": 2
}
